{
 "cells": [
  {
   "cell_type": "markdown",
   "id": "f5074219-7448-4bc3-b680-63c7e7315f39",
   "metadata": {},
   "source": [
    "# COMP 7150 Assignment 6 SOLUTION"
   ]
  },
  {
   "cell_type": "markdown",
   "id": "f36b0732-eadd-421f-9181-547e8570e7f1",
   "metadata": {},
   "source": [
    "---\n",
    "\n",
    "**How each problem is graded**\n",
    "\n",
    "This is a general guideline.  There might be some variant for a specific problem.\n",
    "\n",
    "* Answering the question in English: 25%\n",
    "    + Thorough answering the question, explaning the findings, discussing the comparison: 10-25%\n",
    "    + Not answering the question in English: 0%.\n",
    "    + Note: An answer is written in English to address a specific question. The answer must come first.  \n",
    "* Code: 50%\n",
    "    + Code is correct: 50%\n",
    "    + Code is correct, but missing some minor elements: 25-40%\n",
    "    + Incorrect solution, but make an effort: 10%-25%\n",
    "    + Empty: 0% \n",
    "    + Note: code is not an answer. Code shows how you get an answer.  Code comes after an answer.\n",
    "* Explanation of code: 10%\n",
    "    + Concise English explanation of solution/code: 10%\n",
    "    + No explanation: 0%\n",
    "* Testing: 15%\n",
    "    + Providing adequate testing of code: 15%\n",
    "    + Code operational but does not show how the answer(s) were generated: 5%\n",
    "    + Code not runnable or no testing: 0%\n",
    "\n",
    "\n",
    "**How to turn in your assignment**\n",
    "\n",
    "+ Export your notebook to an HTML file.\n",
    "+ Upload it to the appropriate folder in Assignments on Canvas."
   ]
  },
  {
   "cell_type": "markdown",
   "id": "f7db3e6a-d75f-4737-8cb6-bfc753e07c09",
   "metadata": {},
   "source": [
    "#### Dataset\n",
    "\n",
    "The dataset you'll used for this assignment is diabetes.csv\n",
    "\n",
    "The target variable is Outcome. The other 8 variables are features.\n",
    "\n",
    "Several constraints were placed on the selection of these instances from a larger database. In particular, all patients here are females at least 21 years old of Pima Indian heritage.\n",
    "\n",
    "* Pregnancies: Number of times pregnant\n",
    "* Glucose: Plasma glucose concentration a 2 hours in an oral glucose tolerance test\n",
    "* BloodPressure: Diastolic blood pressure (mm Hg)\n",
    "* SkinThickness: Triceps skin fold thickness (mm)\n",
    "* Insulin: 2-Hour serum insulin (mu U/ml)\n",
    "* BMI: Body mass index (weight in kg/(height in m)^2)\n",
    "* DiabetesPedigreeFunction: Diabetes pedigree function\n",
    "* Age: Age (years)\n",
    "* Outcome: Class variable (0 or 1)\n"
   ]
  },
  {
   "cell_type": "markdown",
   "id": "ed8bbe85-47ce-49b4-a66b-faa6be7cd0f3",
   "metadata": {},
   "source": [
    "---\n",
    "\n",
    "Each problem is worth 20 points.\n",
    "\n",
    "---"
   ]
  },
  {
   "cell_type": "code",
   "execution_count": 1,
   "id": "e57682ed-20c2-4a2b-8039-a89904ee68a9",
   "metadata": {},
   "outputs": [],
   "source": []
  },
  {
   "cell_type": "markdown",
   "id": "2ddb4251-6177-4df6-88d3-c3ed8d185391",
   "metadata": {},
   "source": [
    "---\n",
    "\n",
    "**Problem 1**\n",
    "\n",
    "Some of the features have missing values.  Unfortunately, in this dataset, missing values are not indicated as \"nan\".  Therefore, if you use pandas' \"dropna\", it won't work.\n",
    "\n",
    "However, if you understand the meanings of the features, you can guess which ones have missing values.  For example, blood pressure should not be less than 20.\n",
    "\n",
    "Find the features that you think have missing values in the dataset.  For each feature, explain why you think they have missing values.\n",
    "\n"
   ]
  },
  {
   "cell_type": "markdown",
   "id": "243ec547-d20a-4a7a-af31-fa96c29c776b",
   "metadata": {},
   "source": [
    "ANSWER:"
   ]
  },
  {
   "cell_type": "code",
   "execution_count": 3,
   "id": "22f95d93-a8b4-418a-9601-5558c422e5da",
   "metadata": {},
   "outputs": [
    {
     "data": {
      "text/html": [
       "<div>\n",
       "<style scoped>\n",
       "    .dataframe tbody tr th:only-of-type {\n",
       "        vertical-align: middle;\n",
       "    }\n",
       "\n",
       "    .dataframe tbody tr th {\n",
       "        vertical-align: top;\n",
       "    }\n",
       "\n",
       "    .dataframe thead th {\n",
       "        text-align: right;\n",
       "    }\n",
       "</style>\n",
       "<table border=\"1\" class=\"dataframe\">\n",
       "  <thead>\n",
       "    <tr style=\"text-align: right;\">\n",
       "      <th></th>\n",
       "      <th>Pregnancies</th>\n",
       "      <th>Glucose</th>\n",
       "      <th>BloodPressure</th>\n",
       "      <th>SkinThickness</th>\n",
       "      <th>Insulin</th>\n",
       "      <th>BMI</th>\n",
       "      <th>DiabetesPedigreeFunction</th>\n",
       "      <th>Age</th>\n",
       "      <th>Outcome</th>\n",
       "    </tr>\n",
       "  </thead>\n",
       "  <tbody>\n",
       "    <tr>\n",
       "      <th>120</th>\n",
       "      <td>0</td>\n",
       "      <td>162</td>\n",
       "      <td>76</td>\n",
       "      <td>56</td>\n",
       "      <td>100</td>\n",
       "      <td>53.2</td>\n",
       "      <td>0.759</td>\n",
       "      <td>25</td>\n",
       "      <td>1</td>\n",
       "    </tr>\n",
       "  </tbody>\n",
       "</table>\n",
       "</div>"
      ],
      "text/plain": [
       "     Pregnancies  Glucose  BloodPressure  SkinThickness  Insulin   BMI  \\\n",
       "120            0      162             76             56      100  53.2   \n",
       "\n",
       "     DiabetesPedigreeFunction  Age  Outcome  \n",
       "120                     0.759   25        1  "
      ]
     },
     "execution_count": 3,
     "metadata": {},
     "output_type": "execute_result"
    }
   ],
   "source": [
    "import pandas\n",
    "\n",
    "diabetes = pandas.read_csv('../Datasets/diabetes.csv')\n",
    "diabetes.sample(1)"
   ]
  },
  {
   "cell_type": "markdown",
   "id": "73f1dfa6-3366-43c8-bcc9-6097d68b7e31",
   "metadata": {},
   "source": [
    "Certain features (Glucose, BloodPressure, SkinThickness, Insulin, BMI, Age) should not have 0 values."
   ]
  },
  {
   "cell_type": "code",
   "execution_count": 9,
   "id": "eb76dc15-7bac-41ed-b5c1-77d16ef7521b",
   "metadata": {},
   "outputs": [
    {
     "name": "stdout",
     "output_type": "stream",
     "text": [
      "Data set size: 768\n",
      "Valid data for BloodPressure 733\n",
      "Valid data for Glucose 763\n",
      "Valid data for BMI 757\n",
      "Valid data for Insulin 394\n",
      "Valid data for SkinThickness 541\n",
      "\n",
      "Valid data: 392\n"
     ]
    }
   ],
   "source": [
    "valid_bloodpressure = diabetes['BloodPressure'] > 0\n",
    "valid_glucose = diabetes['Glucose'] > 0\n",
    "valid_bmi = diabetes['BMI'] > 0\n",
    "valid_insulin = diabetes['Insulin'] > 0\n",
    "valid_skin = diabetes['SkinThickness'] > 0\n",
    "valid_age = diabetes['Age'] > 0\n",
    "\n",
    "\n",
    "print('Data set size:', len(diabetes))\n",
    "print('Valid data for BloodPressure', len(diabetes[valid_bloodpressure]))\n",
    "print('Valid data for Glucose', len(diabetes[valid_glucose]))\n",
    "print('Valid data for BMI', len(diabetes[valid_bmi]))\n",
    "print('Valid data for Insulin', len(diabetes[valid_insulin]))\n",
    "print('Valid data for SkinThickness', len(diabetes[valid_skin]))\n",
    "print()\n",
    "Q = valid_bloodpressure & valid_glucose & valid_bmi & valid_insulin & valid_skin & valid_age\n",
    "print('Valid data:', len(diabetes[Q]))"
   ]
  },
  {
   "cell_type": "markdown",
   "id": "8e0eaa39-2097-4ec9-9978-1facf9483f1d",
   "metadata": {},
   "source": [
    "---\n",
    "\n",
    "**Problem 2**\n",
    "\n",
    "Remove the missing values from the diabetes dataset.\n",
    "\n",
    "Find 3 decision models with the best F1 scores, based on these characteristics:\n",
    "* The first model: find the best max_depth.\n",
    "* The second model: find the best min_samples_leaf\n",
    "* The third model: find the best combination of max_depth and min_samples_leaf\n",
    "\n",
    "Evaluate your models using f1_score and ShuffleSplit with 100 splits.\n",
    "\n",
    "You can read about these two parameters here: https://scikit-learn.org/stable/modules/generated/sklearn.tree.DecisionTreeClassifier.html#sklearn.tree.DecisionTreeClassifier\n"
   ]
  },
  {
   "cell_type": "markdown",
   "id": "257f2346-1cb6-45b0-a8a2-9c134027a3a4",
   "metadata": {},
   "source": [
    "ANSWER:"
   ]
  },
  {
   "cell_type": "code",
   "execution_count": 16,
   "id": "db0c67e9-f723-4eaf-9a20-676be98d0750",
   "metadata": {},
   "outputs": [
    {
     "name": "stdout",
     "output_type": "stream",
     "text": [
      "Valid data: 392 0.5104166666666666\n"
     ]
    }
   ],
   "source": [
    "valid_bloodpressure = diabetes['BloodPressure'] > 0\n",
    "valid_glucose = diabetes['Glucose'] > 0\n",
    "valid_bmi = diabetes['BMI'] > 0\n",
    "valid_insulin = diabetes['Insulin'] > 0\n",
    "valid_skin = diabetes['SkinThickness'] > 0\n",
    "valid_age = diabetes['Age'] > 0\n",
    "\n",
    "Q = valid_bloodpressure & valid_glucose & valid_bmi & valid_insulin & valid_skin & valid_age\n",
    "\n",
    "data = diabetes[Q]\n",
    "\n",
    "print('Valid data:', len(data), len(data)/len(diabetes))"
   ]
  },
  {
   "cell_type": "markdown",
   "id": "a5cd9184-eb9a-4290-8939-46c02c6bb5d6",
   "metadata": {},
   "source": [
    "We lose about 50% of the data after removing missing values.\n",
    "\n",
    "There are ways of guesstimating missing values, but we won't be discuss them here."
   ]
  },
  {
   "cell_type": "markdown",
   "id": "dddf3372-356c-4a88-a193-257f132b0053",
   "metadata": {},
   "source": [
    "**Finding the best max_depth for a decision tree model**"
   ]
  },
  {
   "cell_type": "code",
   "execution_count": 17,
   "id": "53948dfd-160c-4ea7-9d24-707fc1dbfa8b",
   "metadata": {},
   "outputs": [
    {
     "name": "stdout",
     "output_type": "stream",
     "text": [
      "2 0.54\n",
      "3 0.67\n",
      "4 0.61\n",
      "5 0.61\n",
      "6 0.6\n",
      "7 0.58\n",
      "8 0.57\n",
      "10 0.59\n",
      "14 0.56\n",
      "16 0.55\n",
      "18 0.58\n",
      "20 0.57\n",
      "22 0.56\n"
     ]
    }
   ],
   "source": [
    "from sklearn.model_selection import cross_validate, ShuffleSplit\n",
    "from sklearn.tree import DecisionTreeClassifier\n",
    "\n",
    "X, y = data.drop(columns=['Outcome']), data['Outcome']\n",
    "cv = ShuffleSplit(n_splits=100)\n",
    "\n",
    "for d in [2, 3, 4, 5, 6, 7, 8, 10, 14, 16, 18, 20, 22]:\n",
    "    dt = DecisionTreeClassifier(max_depth=d)\n",
    "    r = cross_validate(dt, X, y, cv=cv, scoring='f1')\n",
    "    print(d, r['test_score'].mean().round(2))\n",
    "    "
   ]
  },
  {
   "cell_type": "code",
   "execution_count": 19,
   "id": "e21ba4ce-b2ae-4083-897c-5e5080d65a8e",
   "metadata": {},
   "outputs": [],
   "source": [
    "# the best max_depth seems to be 3.\n",
    "model1 = DecisionTreeClassifier(max_depth=3)"
   ]
  },
  {
   "cell_type": "markdown",
   "id": "8a65d53d-333e-49d4-9868-902c0d9810b6",
   "metadata": {},
   "source": [
    "**Finding the best min_samples_leaf for a decision tree model**"
   ]
  },
  {
   "cell_type": "code",
   "execution_count": 20,
   "id": "56a878e0-4e98-4012-beff-31380ecc6298",
   "metadata": {},
   "outputs": [
    {
     "name": "stdout",
     "output_type": "stream",
     "text": [
      "2 0.58\n",
      "3 0.59\n",
      "4 0.6\n",
      "5 0.63\n",
      "6 0.6\n",
      "7 0.6\n",
      "8 0.61\n",
      "9 0.61\n",
      "10 0.61\n",
      "11 0.61\n",
      "12 0.6\n",
      "13 0.62\n",
      "14 0.61\n",
      "15 0.58\n",
      "16 0.59\n",
      "17 0.6\n",
      "18 0.59\n",
      "19 0.6\n",
      "20 0.58\n",
      "21 0.61\n",
      "22 0.61\n",
      "23 0.59\n",
      "24 0.6\n"
     ]
    }
   ],
   "source": [
    "X, y = data.drop(columns=['Outcome']), data['Outcome']\n",
    "cv = ShuffleSplit(n_splits=100)\n",
    "\n",
    "for d in range(2,25):\n",
    "    dt = DecisionTreeClassifier(min_samples_leaf=d)\n",
    "    r = cross_validate(dt, X, y, cv=cv, scoring='f1')\n",
    "    print(d, r['test_score'].mean().round(2))\n",
    "    \n"
   ]
  },
  {
   "cell_type": "code",
   "execution_count": 34,
   "id": "3a73e828-4d20-4048-8b28-27e1718753b5",
   "metadata": {},
   "outputs": [],
   "source": [
    "# there are multiple values\n",
    "model2 = DecisionTreeClassifier(min_samples_leaf=9)"
   ]
  },
  {
   "cell_type": "markdown",
   "id": "6a6c2367-6501-4b70-be66-374741e72e81",
   "metadata": {},
   "source": [
    "#### Identifying the best combination"
   ]
  },
  {
   "cell_type": "code",
   "execution_count": 21,
   "id": "45560805-bb12-46df-ba2a-f27ad40dc1da",
   "metadata": {},
   "outputs": [
    {
     "name": "stdout",
     "output_type": "stream",
     "text": [
      "2 5 0.63\n",
      "2 6 0.61\n",
      "2 7 0.58\n",
      "2 8 0.58\n",
      "2 9 0.56\n",
      "2 10 0.59\n",
      "2 11 0.59\n",
      "2 12 0.58\n",
      "2 13 0.56\n",
      "2 14 0.58\n",
      "3 5 0.62\n",
      "3 6 0.6\n",
      "3 7 0.59\n",
      "3 8 0.59\n",
      "3 9 0.59\n",
      "3 10 0.6\n",
      "3 11 0.57\n",
      "3 12 0.6\n",
      "3 13 0.61\n",
      "3 14 0.61\n",
      "4 5 0.64\n",
      "4 6 0.61\n",
      "4 7 0.59\n",
      "4 8 0.6\n",
      "4 9 0.6\n",
      "4 10 0.6\n",
      "4 11 0.58\n",
      "4 12 0.61\n",
      "4 13 0.6\n",
      "4 14 0.61\n",
      "5 5 0.65\n",
      "5 6 0.62\n",
      "5 7 0.63\n",
      "5 8 0.62\n",
      "5 9 0.63\n",
      "5 10 0.62\n",
      "5 11 0.61\n",
      "5 12 0.6\n",
      "5 13 0.62\n",
      "5 14 0.63\n",
      "6 5 0.62\n",
      "6 6 0.62\n",
      "6 7 0.6\n",
      "6 8 0.61\n",
      "6 9 0.61\n",
      "6 10 0.62\n",
      "6 11 0.62\n",
      "6 12 0.58\n",
      "6 13 0.6\n",
      "6 14 0.6\n"
     ]
    }
   ],
   "source": [
    "cv = ShuffleSplit(n_splits=100)\n",
    "        \n",
    "for l in range(2,7):\n",
    "    for d in range(5,15):\n",
    "        dt = DecisionTreeClassifier(max_depth=d, min_samples_leaf=l)\n",
    "        r = cross_validate(dt, X, y, cv=cv, scoring='f1')\n",
    "        print(l, d, r['test_score'].mean().round(2))\n"
   ]
  },
  {
   "cell_type": "code",
   "execution_count": 22,
   "id": "578e6b7e-485f-41d3-8632-043165571097",
   "metadata": {},
   "outputs": [],
   "source": [
    "model3 = DecisionTreeClassifier(min_samples_leaf=4, max_depth=5)"
   ]
  },
  {
   "cell_type": "markdown",
   "id": "6787cd1a-2f64-43b3-abf5-ca00bdce93fc",
   "metadata": {},
   "source": [
    "---\n",
    "**Problem 3**\n",
    "\n",
    "Compare the performance of the best decision tree classifier and a random forest (with similar max_depth and min_samples_leaf).\n"
   ]
  },
  {
   "cell_type": "markdown",
   "id": "9c959320-1aa6-40d0-8721-51ef7a1eb56c",
   "metadata": {},
   "source": [
    "ANSWER:"
   ]
  },
  {
   "cell_type": "code",
   "execution_count": 23,
   "id": "381c572c-6863-4354-a7cc-cc7c18649eef",
   "metadata": {},
   "outputs": [],
   "source": [
    "from sklearn.model_selection import cross_validate, ShuffleSplit, KFold\n",
    "from sklearn.tree import DecisionTreeClassifier\n",
    "from sklearn.ensemble import RandomForestClassifier\n",
    "\n",
    "X, y = data.drop(columns=['Outcome']), data['Outcome']\n",
    "cv = ShuffleSplit(n_splits=100)\n",
    "dt = DecisionTreeClassifier(min_samples_leaf=4, max_depth=5)\n",
    "rf = RandomForestClassifier(min_samples_leaf=4, max_depth=5)"
   ]
  },
  {
   "cell_type": "code",
   "execution_count": 24,
   "id": "6f0533b2-60f4-45d5-b620-2bd4912380e0",
   "metadata": {},
   "outputs": [
    {
     "name": "stdout",
     "output_type": "stream",
     "text": [
      "0.61\n",
      "0.63\n"
     ]
    }
   ],
   "source": [
    "cv = ShuffleSplit(n_splits=100)\n",
    "result_dt = cross_validate(dt, X, y, cv=cv, scoring='f1')\n",
    "result_rf = cross_validate(rf, X, y, cv=cv, scoring='f1')\n",
    "\n",
    "print(result_dt['test_score'].mean().round(2))\n",
    "print(result_rf['test_score'].mean().round(2))"
   ]
  },
  {
   "cell_type": "code",
   "execution_count": 25,
   "id": "f6e4344d-97ce-40ed-a0d6-91c8df69b1b2",
   "metadata": {},
   "outputs": [
    {
     "name": "stdout",
     "output_type": "stream",
     "text": [
      "0.64\n",
      "0.67\n"
     ]
    }
   ],
   "source": [
    "cv = KFold(n_splits=10, shuffle=True)\n",
    "result_dt = cross_validate(dt, X, y, cv=cv, scoring='f1')\n",
    "result_rf = cross_validate(rf, X, y, cv=cv, scoring='f1')\n",
    "\n",
    "print(result_dt['test_score'].mean().round(2))\n",
    "print(result_rf['test_score'].mean().round(2))"
   ]
  },
  {
   "cell_type": "markdown",
   "id": "0945ec4a-0520-4e24-a3b7-7feb9e8dd3c7",
   "metadata": {},
   "source": [
    "The result depends on a specific cross validator. Overall, random forest seems to perform better."
   ]
  },
  {
   "cell_type": "markdown",
   "id": "ba999864-fd9e-4d3f-97ab-2f3768dd281b",
   "metadata": {},
   "source": [
    "---\n",
    "**Problem 4**\n",
    "\n",
    "By default, a random forest classifier uses 100 random trees (n_estimators). The larger the number of random trees, the longer it takes to train and predict.\n",
    "\n",
    "What is the smallest number random trees in a random forest do you need for a random forest classifer to outperform your best decision tree classifier?\n"
   ]
  },
  {
   "cell_type": "markdown",
   "id": "ef542bcb-9534-42ba-b40c-a2c084a4f345",
   "metadata": {},
   "source": [
    "ANSWER:"
   ]
  },
  {
   "cell_type": "code",
   "execution_count": 28,
   "id": "7a20f5f4-ecc5-4bc3-9506-187b326a8fbe",
   "metadata": {},
   "outputs": [
    {
     "name": "stdout",
     "output_type": "stream",
     "text": [
      "10 0.65\n",
      "20 0.62\n",
      "30 0.65\n",
      "40 0.63\n",
      "50 0.64\n",
      "60 0.62\n",
      "70 0.64\n",
      "80 0.65\n",
      "90 0.67\n",
      "100 0.64\n",
      "110 0.62\n",
      "120 0.62\n",
      "130 0.64\n",
      "140 0.63\n",
      "150 0.63\n",
      "160 0.64\n",
      "170 0.64\n",
      "180 0.64\n",
      "190 0.62\n"
     ]
    }
   ],
   "source": [
    "from sklearn.model_selection import cross_validate, KFold\n",
    "from sklearn.ensemble import RandomForestClassifier\n",
    "cv = KFold(n_splits=10, shuffle=True)\n",
    "# cv = ShuffleSplit(n_splits=100)\n",
    "for n in range(10,200,10):\n",
    "    model = RandomForestClassifier(n_estimators=n, min_samples_leaf=9, max_depth=4)\n",
    "    result_rf = cross_validate(rf, X, y, cv=cv, scoring='f1')\n",
    "    print(n, result_rf['test_score'].mean().round(2))    "
   ]
  },
  {
   "cell_type": "markdown",
   "id": "828089b7-83fc-47d4-b3d2-51a641826c2a",
   "metadata": {},
   "source": [
    "With 10-Fold cv, n ~ 90 gives good results."
   ]
  },
  {
   "cell_type": "markdown",
   "id": "e2c174e3-8820-4990-9f0e-2d705af14dc8",
   "metadata": {},
   "source": [
    "---\n",
    "**Problem 5**\n",
    "\n",
    "Compare the performance of the best decision tree classifier and logistic regression classifier.\n",
    "\n",
    "If your logistic regression classifer doesn't convert, you can increase max_iter.\n"
   ]
  },
  {
   "cell_type": "markdown",
   "id": "956253b9-5167-4edd-948a-bb65d7abbd63",
   "metadata": {},
   "source": [
    "ANSWER:"
   ]
  },
  {
   "cell_type": "code",
   "execution_count": 33,
   "id": "0f18e356-6024-4c8d-89ac-36d031898369",
   "metadata": {},
   "outputs": [],
   "source": [
    "from sklearn.model_selection import cross_validate, ShuffleSplit, KFold\n",
    "from sklearn.tree import DecisionTreeClassifier\n",
    "from sklearn.linear_model import LogisticRegression\n",
    "\n",
    "X, y = data.drop(columns=['Outcome']), data['Outcome']\n",
    "dt = DecisionTreeClassifier(min_samples_leaf=9, max_depth=4)\n",
    "logit = LogisticRegression(max_iter=10000)"
   ]
  },
  {
   "cell_type": "code",
   "execution_count": 34,
   "id": "2426127d-2541-4a25-ba55-d594a9326ecf",
   "metadata": {},
   "outputs": [
    {
     "name": "stdout",
     "output_type": "stream",
     "text": [
      "0.62\n",
      "0.6\n"
     ]
    }
   ],
   "source": [
    "cv = ShuffleSplit(n_splits=100)\n",
    "result_dt = cross_validate(dt, X, y, cv=cv, scoring='f1')\n",
    "result_logit = cross_validate(logit, X, y, cv=cv, scoring='f1')\n",
    "\n",
    "print(result_dt['test_score'].mean().round(2))\n",
    "print(result_logit['test_score'].mean().round(2))"
   ]
  },
  {
   "cell_type": "code",
   "execution_count": 32,
   "id": "f68175ac-d04c-419c-907c-4d10c7c995a2",
   "metadata": {},
   "outputs": [
    {
     "name": "stdout",
     "output_type": "stream",
     "text": [
      "0.62\n",
      "0.64\n"
     ]
    }
   ],
   "source": [
    "cv = KFold(n_splits=10)\n",
    "result_dt = cross_validate(dt, X, y, cv=cv, scoring='f1')\n",
    "result_logit = cross_validate(logit, X, y, cv=cv, scoring='f1')\n",
    "\n",
    "print(result_dt['test_score'].mean().round(2))\n",
    "print(result_logit['test_score'].mean().round(2))"
   ]
  },
  {
   "cell_type": "markdown",
   "id": "a7082102-3080-468e-881b-14c2c4fc1ca2",
   "metadata": {},
   "source": [
    "The performance is similar.\n",
    "\n",
    "Logistic regression is to be slightly better with 10-Fold, and decision tree is better with Shuffle Split.\n",
    "\n"
   ]
  },
  {
   "cell_type": "markdown",
   "id": "48ff2b14-58ea-4dc5-b449-88f647765df4",
   "metadata": {},
   "source": [
    "#### feature importance"
   ]
  },
  {
   "cell_type": "code",
   "execution_count": 36,
   "id": "c1c7608a-4193-4cb1-9673-6c41b61f150d",
   "metadata": {},
   "outputs": [
    {
     "data": {
      "text/html": [
       "<style>#sk-container-id-2 {color: black;background-color: white;}#sk-container-id-2 pre{padding: 0;}#sk-container-id-2 div.sk-toggleable {background-color: white;}#sk-container-id-2 label.sk-toggleable__label {cursor: pointer;display: block;width: 100%;margin-bottom: 0;padding: 0.3em;box-sizing: border-box;text-align: center;}#sk-container-id-2 label.sk-toggleable__label-arrow:before {content: \"▸\";float: left;margin-right: 0.25em;color: #696969;}#sk-container-id-2 label.sk-toggleable__label-arrow:hover:before {color: black;}#sk-container-id-2 div.sk-estimator:hover label.sk-toggleable__label-arrow:before {color: black;}#sk-container-id-2 div.sk-toggleable__content {max-height: 0;max-width: 0;overflow: hidden;text-align: left;background-color: #f0f8ff;}#sk-container-id-2 div.sk-toggleable__content pre {margin: 0.2em;color: black;border-radius: 0.25em;background-color: #f0f8ff;}#sk-container-id-2 input.sk-toggleable__control:checked~div.sk-toggleable__content {max-height: 200px;max-width: 100%;overflow: auto;}#sk-container-id-2 input.sk-toggleable__control:checked~label.sk-toggleable__label-arrow:before {content: \"▾\";}#sk-container-id-2 div.sk-estimator input.sk-toggleable__control:checked~label.sk-toggleable__label {background-color: #d4ebff;}#sk-container-id-2 div.sk-label input.sk-toggleable__control:checked~label.sk-toggleable__label {background-color: #d4ebff;}#sk-container-id-2 input.sk-hidden--visually {border: 0;clip: rect(1px 1px 1px 1px);clip: rect(1px, 1px, 1px, 1px);height: 1px;margin: -1px;overflow: hidden;padding: 0;position: absolute;width: 1px;}#sk-container-id-2 div.sk-estimator {font-family: monospace;background-color: #f0f8ff;border: 1px dotted black;border-radius: 0.25em;box-sizing: border-box;margin-bottom: 0.5em;}#sk-container-id-2 div.sk-estimator:hover {background-color: #d4ebff;}#sk-container-id-2 div.sk-parallel-item::after {content: \"\";width: 100%;border-bottom: 1px solid gray;flex-grow: 1;}#sk-container-id-2 div.sk-label:hover label.sk-toggleable__label {background-color: #d4ebff;}#sk-container-id-2 div.sk-serial::before {content: \"\";position: absolute;border-left: 1px solid gray;box-sizing: border-box;top: 0;bottom: 0;left: 50%;z-index: 0;}#sk-container-id-2 div.sk-serial {display: flex;flex-direction: column;align-items: center;background-color: white;padding-right: 0.2em;padding-left: 0.2em;position: relative;}#sk-container-id-2 div.sk-item {position: relative;z-index: 1;}#sk-container-id-2 div.sk-parallel {display: flex;align-items: stretch;justify-content: center;background-color: white;position: relative;}#sk-container-id-2 div.sk-item::before, #sk-container-id-2 div.sk-parallel-item::before {content: \"\";position: absolute;border-left: 1px solid gray;box-sizing: border-box;top: 0;bottom: 0;left: 50%;z-index: -1;}#sk-container-id-2 div.sk-parallel-item {display: flex;flex-direction: column;z-index: 1;position: relative;background-color: white;}#sk-container-id-2 div.sk-parallel-item:first-child::after {align-self: flex-end;width: 50%;}#sk-container-id-2 div.sk-parallel-item:last-child::after {align-self: flex-start;width: 50%;}#sk-container-id-2 div.sk-parallel-item:only-child::after {width: 0;}#sk-container-id-2 div.sk-dashed-wrapped {border: 1px dashed gray;margin: 0 0.4em 0.5em 0.4em;box-sizing: border-box;padding-bottom: 0.4em;background-color: white;}#sk-container-id-2 div.sk-label label {font-family: monospace;font-weight: bold;display: inline-block;line-height: 1.2em;}#sk-container-id-2 div.sk-label-container {text-align: center;}#sk-container-id-2 div.sk-container {/* jupyter's `normalize.less` sets `[hidden] { display: none; }` but bootstrap.min.css set `[hidden] { display: none !important; }` so we also need the `!important` here to be able to override the default hidden behavior on the sphinx rendered scikit-learn.org. See: https://github.com/scikit-learn/scikit-learn/issues/21755 */display: inline-block !important;position: relative;}#sk-container-id-2 div.sk-text-repr-fallback {display: none;}</style><div id=\"sk-container-id-2\" class=\"sk-top-container\"><div class=\"sk-text-repr-fallback\"><pre>LogisticRegression(max_iter=10000)</pre><b>In a Jupyter environment, please rerun this cell to show the HTML representation or trust the notebook. <br />On GitHub, the HTML representation is unable to render, please try loading this page with nbviewer.org.</b></div><div class=\"sk-container\" hidden><div class=\"sk-item\"><div class=\"sk-estimator sk-toggleable\"><input class=\"sk-toggleable__control sk-hidden--visually\" id=\"sk-estimator-id-2\" type=\"checkbox\" checked><label for=\"sk-estimator-id-2\" class=\"sk-toggleable__label sk-toggleable__label-arrow\">LogisticRegression</label><div class=\"sk-toggleable__content\"><pre>LogisticRegression(max_iter=10000)</pre></div></div></div></div></div>"
      ],
      "text/plain": [
       "LogisticRegression(max_iter=10000)"
      ]
     },
     "execution_count": 36,
     "metadata": {},
     "output_type": "execute_result"
    }
   ],
   "source": [
    "dt.fit(X,y)\n",
    "logit.fit(X,y)"
   ]
  },
  {
   "cell_type": "code",
   "execution_count": 39,
   "id": "5a44ac1b-fae9-4e59-8031-669b54088010",
   "metadata": {},
   "outputs": [
    {
     "data": {
      "text/plain": [
       "array([0.  , 0.62, 0.01, 0.02, 0.06, 0.  , 0.07, 0.22])"
      ]
     },
     "execution_count": 39,
     "metadata": {},
     "output_type": "execute_result"
    }
   ],
   "source": [
    "dt.feature_importances_.round(2)"
   ]
  },
  {
   "cell_type": "code",
   "execution_count": 38,
   "id": "da2fc1da-1eeb-4d14-8554-4cb734f68742",
   "metadata": {},
   "outputs": [
    {
     "data": {
      "text/plain": [
       "Index(['Pregnancies', 'Glucose', 'BloodPressure', 'SkinThickness', 'Insulin',\n",
       "       'BMI', 'DiabetesPedigreeFunction', 'Age'],\n",
       "      dtype='object')"
      ]
     },
     "execution_count": 38,
     "metadata": {},
     "output_type": "execute_result"
    }
   ],
   "source": [
    "X.columns"
   ]
  },
  {
   "cell_type": "code",
   "execution_count": 41,
   "id": "a5737e70-0d7a-40e4-b3d1-1694cd9fb1ca",
   "metadata": {},
   "outputs": [
    {
     "data": {
      "text/plain": [
       "array([[ 0.08,  0.04, -0.  ,  0.01, -0.  ,  0.07,  0.97,  0.03]])"
      ]
     },
     "execution_count": 41,
     "metadata": {},
     "output_type": "execute_result"
    }
   ],
   "source": [
    "logit.coef_.round(2)"
   ]
  },
  {
   "cell_type": "code",
   "execution_count": 42,
   "id": "c9d041a2-2aed-4f5c-8e6d-53e9daf89bc6",
   "metadata": {},
   "outputs": [
    {
     "data": {
      "text/html": [
       "<style>#sk-container-id-3 {color: black;background-color: white;}#sk-container-id-3 pre{padding: 0;}#sk-container-id-3 div.sk-toggleable {background-color: white;}#sk-container-id-3 label.sk-toggleable__label {cursor: pointer;display: block;width: 100%;margin-bottom: 0;padding: 0.3em;box-sizing: border-box;text-align: center;}#sk-container-id-3 label.sk-toggleable__label-arrow:before {content: \"▸\";float: left;margin-right: 0.25em;color: #696969;}#sk-container-id-3 label.sk-toggleable__label-arrow:hover:before {color: black;}#sk-container-id-3 div.sk-estimator:hover label.sk-toggleable__label-arrow:before {color: black;}#sk-container-id-3 div.sk-toggleable__content {max-height: 0;max-width: 0;overflow: hidden;text-align: left;background-color: #f0f8ff;}#sk-container-id-3 div.sk-toggleable__content pre {margin: 0.2em;color: black;border-radius: 0.25em;background-color: #f0f8ff;}#sk-container-id-3 input.sk-toggleable__control:checked~div.sk-toggleable__content {max-height: 200px;max-width: 100%;overflow: auto;}#sk-container-id-3 input.sk-toggleable__control:checked~label.sk-toggleable__label-arrow:before {content: \"▾\";}#sk-container-id-3 div.sk-estimator input.sk-toggleable__control:checked~label.sk-toggleable__label {background-color: #d4ebff;}#sk-container-id-3 div.sk-label input.sk-toggleable__control:checked~label.sk-toggleable__label {background-color: #d4ebff;}#sk-container-id-3 input.sk-hidden--visually {border: 0;clip: rect(1px 1px 1px 1px);clip: rect(1px, 1px, 1px, 1px);height: 1px;margin: -1px;overflow: hidden;padding: 0;position: absolute;width: 1px;}#sk-container-id-3 div.sk-estimator {font-family: monospace;background-color: #f0f8ff;border: 1px dotted black;border-radius: 0.25em;box-sizing: border-box;margin-bottom: 0.5em;}#sk-container-id-3 div.sk-estimator:hover {background-color: #d4ebff;}#sk-container-id-3 div.sk-parallel-item::after {content: \"\";width: 100%;border-bottom: 1px solid gray;flex-grow: 1;}#sk-container-id-3 div.sk-label:hover label.sk-toggleable__label {background-color: #d4ebff;}#sk-container-id-3 div.sk-serial::before {content: \"\";position: absolute;border-left: 1px solid gray;box-sizing: border-box;top: 0;bottom: 0;left: 50%;z-index: 0;}#sk-container-id-3 div.sk-serial {display: flex;flex-direction: column;align-items: center;background-color: white;padding-right: 0.2em;padding-left: 0.2em;position: relative;}#sk-container-id-3 div.sk-item {position: relative;z-index: 1;}#sk-container-id-3 div.sk-parallel {display: flex;align-items: stretch;justify-content: center;background-color: white;position: relative;}#sk-container-id-3 div.sk-item::before, #sk-container-id-3 div.sk-parallel-item::before {content: \"\";position: absolute;border-left: 1px solid gray;box-sizing: border-box;top: 0;bottom: 0;left: 50%;z-index: -1;}#sk-container-id-3 div.sk-parallel-item {display: flex;flex-direction: column;z-index: 1;position: relative;background-color: white;}#sk-container-id-3 div.sk-parallel-item:first-child::after {align-self: flex-end;width: 50%;}#sk-container-id-3 div.sk-parallel-item:last-child::after {align-self: flex-start;width: 50%;}#sk-container-id-3 div.sk-parallel-item:only-child::after {width: 0;}#sk-container-id-3 div.sk-dashed-wrapped {border: 1px dashed gray;margin: 0 0.4em 0.5em 0.4em;box-sizing: border-box;padding-bottom: 0.4em;background-color: white;}#sk-container-id-3 div.sk-label label {font-family: monospace;font-weight: bold;display: inline-block;line-height: 1.2em;}#sk-container-id-3 div.sk-label-container {text-align: center;}#sk-container-id-3 div.sk-container {/* jupyter's `normalize.less` sets `[hidden] { display: none; }` but bootstrap.min.css set `[hidden] { display: none !important; }` so we also need the `!important` here to be able to override the default hidden behavior on the sphinx rendered scikit-learn.org. See: https://github.com/scikit-learn/scikit-learn/issues/21755 */display: inline-block !important;position: relative;}#sk-container-id-3 div.sk-text-repr-fallback {display: none;}</style><div id=\"sk-container-id-3\" class=\"sk-top-container\"><div class=\"sk-text-repr-fallback\"><pre>RandomForestClassifier(max_depth=4, min_samples_leaf=9)</pre><b>In a Jupyter environment, please rerun this cell to show the HTML representation or trust the notebook. <br />On GitHub, the HTML representation is unable to render, please try loading this page with nbviewer.org.</b></div><div class=\"sk-container\" hidden><div class=\"sk-item\"><div class=\"sk-estimator sk-toggleable\"><input class=\"sk-toggleable__control sk-hidden--visually\" id=\"sk-estimator-id-3\" type=\"checkbox\" checked><label for=\"sk-estimator-id-3\" class=\"sk-toggleable__label sk-toggleable__label-arrow\">RandomForestClassifier</label><div class=\"sk-toggleable__content\"><pre>RandomForestClassifier(max_depth=4, min_samples_leaf=9)</pre></div></div></div></div></div>"
      ],
      "text/plain": [
       "RandomForestClassifier(max_depth=4, min_samples_leaf=9)"
      ]
     },
     "execution_count": 42,
     "metadata": {},
     "output_type": "execute_result"
    }
   ],
   "source": [
    "from sklearn.ensemble import RandomForestClassifier\n",
    "rf = RandomForestClassifier(min_samples_leaf=9, max_depth=4)\n",
    "rf.fit(X,y)"
   ]
  },
  {
   "cell_type": "code",
   "execution_count": 44,
   "id": "6a32d7ae-cd65-4e8e-b550-de89045bdbdf",
   "metadata": {},
   "outputs": [
    {
     "data": {
      "text/plain": [
       "array([0.06, 0.35, 0.03, 0.05, 0.15, 0.09, 0.07, 0.19])"
      ]
     },
     "execution_count": 44,
     "metadata": {},
     "output_type": "execute_result"
    }
   ],
   "source": [
    "rf.feature_importances_.round(2)"
   ]
  },
  {
   "cell_type": "code",
   "execution_count": null,
   "id": "ce10f25c-10a2-4b21-841e-4503ff51c3e2",
   "metadata": {},
   "outputs": [],
   "source": []
  }
 ],
 "metadata": {
  "kernelspec": {
   "display_name": "Python 3 (ipykernel)",
   "language": "python",
   "name": "python3"
  },
  "language_info": {
   "codemirror_mode": {
    "name": "ipython",
    "version": 3
   },
   "file_extension": ".py",
   "mimetype": "text/x-python",
   "name": "python",
   "nbconvert_exporter": "python",
   "pygments_lexer": "ipython3",
   "version": "3.9.12"
  }
 },
 "nbformat": 4,
 "nbformat_minor": 5
}
