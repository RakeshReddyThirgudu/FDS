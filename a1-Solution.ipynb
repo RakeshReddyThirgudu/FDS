{
 "cells": [
  {
   "cell_type": "markdown",
   "id": "f5074219-7448-4bc3-b680-63c7e7315f39",
   "metadata": {},
   "source": [
    "# COMP 7150 Assignment 1 Solution"
   ]
  },
  {
   "cell_type": "markdown",
   "id": "37b32ec3-3ec5-4c27-ae64-0d40609a26d4",
   "metadata": {},
   "source": [
    "**Due at midnight 01/31/2023**"
   ]
  },
  {
   "cell_type": "markdown",
   "id": "f36b0732-eadd-421f-9181-547e8570e7f1",
   "metadata": {
    "jp-MarkdownHeadingCollapsed": true,
    "tags": []
   },
   "source": [
    "---\n",
    "\n",
    "**Academic misconduct**\n",
    "\n",
    "If you use code that you did not write yourself, mention the source explicitly. If this is not done, you commit plagirism.  You can discuss, explain, get help from your classmate on how to solve a problem.  If the code or writing is not yours, it is plagiarism.   Plagiarism results in a grade of 0 for the assignment.  There might be an additional penalty and report to the department and college.\n",
    "\n",
    "Please review additional information about academic misconduct: https://www.memphis.edu/osa/students/academic-misconduct.php\n",
    "\n",
    "\n",
    "**How each problem is graded**\n",
    "\n",
    "This is a general guideline.  There might be some variant for a specific problem.\n",
    "* Answering the question in English: 30%\n",
    "    + Thorough answering the question, explaning the findings, discussing the comparison: 10-30%\n",
    "    + Not answering the question in English: 0%.\n",
    "* Code: 60%\n",
    "    + Code is correct and is executable and demonstrated to be correct: 60%\n",
    "    + Code is correct and is not executable or is not demonstrated to be correct: 40%\n",
    "    + Code misses minor elements: 25-40%\n",
    "    + Incorrect solution, but make an effort: 10%-25%\n",
    "    + Empty: 0% \n",
    "* Explanation of code: 10%\n",
    "    + Concise English explanation of solution/code: 10%\n",
    "    + No explanation: 0%\n",
    "\n",
    "**How to turn in your assignment**\n",
    "\n",
    "+ Export your notebook to an HTML file.\n",
    "+ Upload it to the appropriate folder in Assignments on Canvas."
   ]
  },
  {
   "cell_type": "markdown",
   "id": "a1c80ff9-055e-4260-a5ad-deed2111d0f0",
   "metadata": {},
   "source": [
    "---\n",
    "\n",
    "**Information**\n",
    "\n",
    "Datasets you will use for this assignment are: tips.csv, iris.csv\n",
    "\n",
    "Each question is worth 20 points."
   ]
  },
  {
   "cell_type": "markdown",
   "id": "f6c2e5bd-b10d-45c5-a950-0df2cededffb",
   "metadata": {},
   "source": [
    "---\n",
    "\n",
    "**Problem 1**\n",
    "\n",
    "For each iris species, select all data whose petal widths are greater than the overall average (of all species).\n",
    "\n",
    "Report on the counts and averages of petal widths of each species."
   ]
  },
  {
   "cell_type": "markdown",
   "id": "2055d747-64f6-4642-a730-73e63e1d86c5",
   "metadata": {},
   "source": [
    "ANSWER:\n",
    "\n",
    "Finding:\n",
    "+ No setosa irises have petal width larger than average.\n",
    "+ 40 out of 50 versicolor irises are larger than average, with average 1.4.\n",
    "+ All 50 virginica irises are larger than average, with average of ~1.2.\n",
    "\n",
    "We went through these steps:\n",
    "+ Compute the average petal width.\n",
    "+ Select all data with petal width larger than the average petal width.\n",
    "+ Group the selected data into separate species and calculate the mean & count for each species.\n"
   ]
  },
  {
   "cell_type": "code",
   "execution_count": 1,
   "id": "080c5605-843d-4abf-828f-7faa9b1667f5",
   "metadata": {},
   "outputs": [
    {
     "name": "stdout",
     "output_type": "stream",
     "text": [
      "Average petal width is: 1.199333333333334\n"
     ]
    },
    {
     "data": {
      "text/html": [
       "<div>\n",
       "<style scoped>\n",
       "    .dataframe tbody tr th:only-of-type {\n",
       "        vertical-align: middle;\n",
       "    }\n",
       "\n",
       "    .dataframe tbody tr th {\n",
       "        vertical-align: top;\n",
       "    }\n",
       "\n",
       "    .dataframe thead th {\n",
       "        text-align: right;\n",
       "    }\n",
       "</style>\n",
       "<table border=\"1\" class=\"dataframe\">\n",
       "  <thead>\n",
       "    <tr style=\"text-align: right;\">\n",
       "      <th></th>\n",
       "      <th>mean</th>\n",
       "      <th>count</th>\n",
       "    </tr>\n",
       "    <tr>\n",
       "      <th>Species</th>\n",
       "      <th></th>\n",
       "      <th></th>\n",
       "    </tr>\n",
       "  </thead>\n",
       "  <tbody>\n",
       "    <tr>\n",
       "      <th>versicolor</th>\n",
       "      <td>1.400</td>\n",
       "      <td>40</td>\n",
       "    </tr>\n",
       "    <tr>\n",
       "      <th>virginica</th>\n",
       "      <td>2.026</td>\n",
       "      <td>50</td>\n",
       "    </tr>\n",
       "  </tbody>\n",
       "</table>\n",
       "</div>"
      ],
      "text/plain": [
       "             mean  count\n",
       "Species                 \n",
       "versicolor  1.400     40\n",
       "virginica   2.026     50"
      ]
     },
     "execution_count": 1,
     "metadata": {},
     "output_type": "execute_result"
    }
   ],
   "source": [
    "import pandas\n",
    "iris = pandas.read_csv('../Datasets/iris.csv')\n",
    "average_pw = iris['PetalWidth'].mean()\n",
    "print('Average petal width is:', average_pw)\n",
    "selected = iris[ (iris['PetalWidth'] > average_pw) ]\n",
    "selected.groupby('Species').agg(['mean','count'])['PetalWidth']"
   ]
  },
  {
   "cell_type": "markdown",
   "id": "f7f172b3-8c53-419b-a5f3-fde9ed1adce9",
   "metadata": {},
   "source": [
    "---\n",
    "\n",
    "**Problem 2**\n",
    "\n",
    "Are tip percentages \"normal\", i.e. is it normally distributed?\n",
    "\n",
    "Use the shapiro statistical test to answer this question.\n",
    "\n",
    "Additionally, draw the distribution of tip percentages to answer this question.\n"
   ]
  },
  {
   "cell_type": "markdown",
   "id": "bdafa277-14e8-49f0-8366-09ce200b6b0a",
   "metadata": {},
   "source": [
    "ANSWER:\n",
    "\n",
    "Finding:\n",
    "+ Tip percentages is not normally distributed.\n",
    "+ The shapiro test of tip percentages has pvalue less than 0.05.  This means that assuming tip percentages is normally distributed, the probability that we observed the data in tip_perc is very small (less than 0.05).  Therefore, we don't accept the hypothesis of tip percentages being normally distributed.\n",
    "+ Visually, we suspect that the very high tip percentages is the reason that the distribution is not normal.  Note: this can be confirmed via another shapiro test.\n",
    "\n",
    "\n",
    "We went through these steps:\n",
    "+ Create a new column \"tip_perc\", the tip percentages.\n",
    "+ Use the shapiro test and the pvalue to determine if tip_perc is normally distributed.\n",
    "+ Use seaborn.displot to visualize the distribution of tip_perc.\n"
   ]
  },
  {
   "cell_type": "code",
   "execution_count": 3,
   "id": "02ca1a07-7f64-4ce6-a484-25660ff63b7b",
   "metadata": {},
   "outputs": [
    {
     "name": "stdout",
     "output_type": "stream",
     "text": [
      "pvalue of shapiro test: 5.118165150920833e-17 True\n"
     ]
    }
   ],
   "source": [
    "import pandas\n",
    "tips = pandas.read_csv('../Datasets/tips.csv')\n",
    "tips['tip_perc'] = 100*tips['tip']/tips['total_bill']\n",
    "\n",
    "from scipy.stats import shapiro\n",
    "stat, pvalue = shapiro(tips['tip_perc'])\n",
    "print('pvalue of shapiro test:', pvalue, pvalue < 0.05)"
   ]
  },
  {
   "cell_type": "markdown",
   "id": "5cf41a75-0191-492b-b40e-0f5ef16a3132",
   "metadata": {},
   "source": [
    "Additional note: if we disregard high tip percentages, the rest is closer to normal."
   ]
  },
  {
   "cell_type": "code",
   "execution_count": 8,
   "id": "f8fbeb7d-b9d5-4b73-9cc1-d6e814e35248",
   "metadata": {},
   "outputs": [
    {
     "data": {
      "text/plain": [
       "ShapiroResult(statistic=0.9913750886917114, pvalue=0.16531586647033691)"
      ]
     },
     "execution_count": 8,
     "metadata": {},
     "output_type": "execute_result"
    }
   ],
   "source": [
    "shapiro(tips[tips['tip_perc']<35]['tip_perc'])"
   ]
  },
  {
   "cell_type": "code",
   "execution_count": 52,
   "id": "131d37a5-e38a-49af-81fb-58eb0d7387c8",
   "metadata": {},
   "outputs": [
    {
     "data": {
      "image/png": "[encoded data removed]",
      "text/plain": [
       "<Figure size 500x500 with 1 Axes>"
      ]
     },
     "metadata": {},
     "output_type": "display_data"
    },
    {
     "data": {
      "image/png": "[encoded data removed]",
      "text/plain": [
       "<Figure size 500x500 with 1 Axes>"
      ]
     },
     "metadata": {},
     "output_type": "display_data"
    }
   ],
   "source": [
    "import seaborn\n",
    "from matplotlib import pyplot\n",
    "seaborn.displot(data=tips, x='tip_perc')\n",
    "pyplot.show()\n",
    "seaborn.displot(data=tips, x='tip_perc', kind='kde')\n",
    "pyplot.show()"
   ]
  },
  {
   "cell_type": "markdown",
   "id": "1bd2dc2a-0f0c-414d-9320-50feb27caf17",
   "metadata": {},
   "source": [
    "---\n",
    "\n",
    "**Problem 3**\n",
    "\n",
    "Use Python, do not use Pandas, to do this problem.\n",
    "\n",
    "Compare the average amount of tips and average percentage of tips between males and females on weekends.\n",
    "\n",
    "A comparison must include an explanation of the code, a report of the finding, and a discussion or conclusion based on the finding."
   ]
  },
  {
   "cell_type": "markdown",
   "id": "379f8819-3d5e-4c02-b3aa-24be0c73a471",
   "metadata": {},
   "source": [
    "ANSWER:\n",
    "\n",
    "Finding:\n",
    "+ Average tip amount of males is higher than that of females.  However, the tip percentage of females is similar to that of males.\n",
    "\n",
    "We went through these steps:\n",
    "+ Read the data info lines and loop through each line.\n",
    "+ In each line, collect total bill, tip, gender, and date.  Total bill and tip are converted to float.  \n",
    "+ In the loop, we keep track of the total bill, tip, and count for males and females on Sunday or Saturday.\n",
    "+ We use a dictionary to keep track of this information."
   ]
  },
  {
   "cell_type": "code",
   "execution_count": 9,
   "id": "c9f2fb4b-b999-4a56-9f8e-552e8d525952",
   "metadata": {},
   "outputs": [
    {
     "name": "stdout",
     "output_type": "stream",
     "text": [
      "Collected information: {'Male': [2496.810000000001, 368.73, 117], 'Female': [908.75, 139.05999999999997, 46]}\n",
      "\n",
      "Average amount of tip of males: 3.1515384615384616\n",
      "Average amount of tip of females: 3.023043478260869\n",
      "\n",
      "Average tip percentages of males: 0.14768044024174842\n",
      "Average tip percentages of females: 0.1530233837689133\n"
     ]
    }
   ],
   "source": [
    "import requests\n",
    "\n",
    "# lines = open('../Datasets/tips.csv').readlines()\n",
    "\n",
    "# or using code in notebook 2.\n",
    "tips_url = 'https://raw.githubusercontent.com/mwaskom/seaborn-data/master/tips.csv'\n",
    "result = requests.get(tips_url)\n",
    "lines = result.text.strip().split('\\n')\n",
    "info = {\n",
    "    'Male' : [0, 0, 0],   \n",
    "    'Female' : [0, 0, 0],\n",
    "}\n",
    "for i in range(len(lines)):\n",
    "    # print(lines[i])\n",
    "    if i > 0:\n",
    "        items = lines[i].split(',')\n",
    "        total_bill = float(items[0])\n",
    "        tip = float(items[1])\n",
    "        gender = items[2].strip('\"')\n",
    "        date = items[4].strip('\"')\n",
    "        if date in ['Sun','Sat']:\n",
    "            info[gender][0] += total_bill\n",
    "            info[gender][1] += tip\n",
    "            info[gender][2] += 1     \n",
    "\n",
    "print('Collected information:', info)\n",
    "print()\n",
    "print('Average amount of tip of males:', info['Male'][1]/info['Male'][2])\n",
    "print('Average amount of tip of females:', info['Female'][1]/info['Female'][2])\n",
    "print()\n",
    "print('Average tip percentages of males:', info['Male'][1]/info['Male'][0])\n",
    "print('Average tip percentages of females:', info['Female'][1]/info['Female'][0])\n",
    "\n"
   ]
  },
  {
   "cell_type": "markdown",
   "id": "4b499985-f51c-410c-853e-5e928b19b28c",
   "metadata": {},
   "source": [
    "---\n",
    "\n",
    "**Problem 4**\n",
    "\n",
    "Visualize the distribution of tip percentages in relation to (or as a function of)  total bill.\n",
    "\n",
    "Discuss the finding.  Specifically, discuss the concentration of tip percentages and its relation to total bill."
   ]
  },
  {
   "cell_type": "markdown",
   "id": "6248663b-187a-4f26-a035-50180f1b4f5b",
   "metadata": {},
   "source": [
    "ANSWER:\n",
    "\n",
    "Finding:\n",
    "+ Most tip percentages and total bill concentrate approximately between 10-20 for both variables.\n",
    "\n",
    "We went through these steps:\n",
    "+ Define a new column \"tip_perc\", similarly to the problems above.\n",
    "+ Use seaborn.displot to visualize the distribution of tip percentages and its relation to total bill.\n",
    "    + To view the concentration, it's best to use \"kde\".\n",
    "    + There's a subtlety in specifying which variable for x and for y.  Conventionally, we think \"y is a function of x\". For this reason, it is a little better to specify total_bill as x."
   ]
  },
  {
   "cell_type": "code",
   "execution_count": 14,
   "id": "f35f950e-9fcb-479e-ae37-6eb4e6d07bca",
   "metadata": {},
   "outputs": [],
   "source": [
    "# import pandas, seaborn\n",
    "# from matplotlib import pyplot\n",
    "\n",
    "# tips = pandas.read_csv('../Datasets/tips.csv')\n",
    "# tips['tip_perc'] = 100*tips['tip']/tips['total_bill']\n",
    "# seaborn.relplot(data=tips, x='total_bill', y='tip_perc', alpha=0.5)\n",
    "# pyplot.show()"
   ]
  },
  {
   "cell_type": "code",
   "execution_count": 16,
   "id": "58a5ddae-181b-4573-8457-e9c9d475c2ae",
   "metadata": {},
   "outputs": [
    {
     "data": {
      "image/png": "[encoded data removed]",
      "text/plain": [
       "<Figure size 500x500 with 1 Axes>"
      ]
     },
     "metadata": {},
     "output_type": "display_data"
    }
   ],
   "source": [
    "import pandas, seaborn\n",
    "from matplotlib import pyplot\n",
    "\n",
    "tips = pandas.read_csv('../Datasets/tips.csv')\n",
    "tips['tip_perc'] = 100*tips['tip']/tips['total_bill']\n",
    "seaborn.displot(data=tips, x='total_bill', y='tip_perc', kind='kde', fill=True)\n",
    "pyplot.show()\n"
   ]
  },
  {
   "cell_type": "markdown",
   "id": "e6fd0762-56f3-4081-8927-f78831f5c810",
   "metadata": {},
   "source": [
    "---\n",
    "\n",
    "**Problem 5**\n",
    "\n",
    "Describe the distinguishable characteristics of big tippers.  Examine all features/attributes and describe the disguishable characteristics (based on your observation) of at least 3 features.\n",
    "\n",
    "For concreteness, we'll define big tippers as people whose tip more than the average plus 1.5 times standard deviation of tip percentage.\n",
    "\n"
   ]
  },
  {
   "cell_type": "markdown",
   "id": "9a1b50d4-92e2-4e64-bb31-71fba6907a21",
   "metadata": {},
   "source": [
    "ANSWER:\n",
    "\n",
    "Finding:\n",
    "+ There are 10 big tippers, based on this definition.\n",
    "+ Distinguishing characteristics of big tippers include:\n",
    "    + The majority is smokers (70%).\n",
    "    + The majority happens on the weekend (70%).\n",
    "    + The majority is female (60%).\n",
    "\n",
    "We went through these steps:\n",
    "+ Calculate mean and standard deviation of tip percentages.\n",
    "+ Define t = mean + 1.5 std as a threshold for determining big tippers.\n",
    "+ Select big tippers based on this threshold."
   ]
  },
  {
   "cell_type": "code",
   "execution_count": 18,
   "id": "6160a3a2-3fda-46f7-a358-584ccb5532df",
   "metadata": {},
   "outputs": [
    {
     "name": "stdout",
     "output_type": "stream",
     "text": [
      "Mean and standard deviation of tip percentages: 16.080258172250463 6.1072204191571915\n",
      "Threshold that determines \"big tippers\": 25.24108880098625\n",
      "\n",
      "There are 10 big tippers.\n",
      "     total_bill   tip     sex smoker   day    time  size   tip_perc\n",
      "172        7.25  5.15    Male    Yes   Sun  Dinner     2  71.034483\n",
      "178        9.60  4.00  Female    Yes   Sun  Dinner     2  41.666667\n",
      "67         3.07  1.00  Female    Yes   Sat  Dinner     1  32.573290\n",
      "232       11.61  3.39    Male     No   Sat  Dinner     2  29.198966\n",
      "183       23.17  6.50    Male    Yes   Sun  Dinner     4  28.053517\n",
      "109       14.31  4.00  Female    Yes   Sat  Dinner     2  27.952481\n",
      "149        7.51  2.00    Male     No  Thur   Lunch     2  26.631158\n",
      "93        16.32  4.30  Female    Yes   Fri  Dinner     2  26.348039\n",
      "221       13.42  3.48  Female    Yes   Fri   Lunch     2  25.931446\n",
      "51        10.29  2.60  Female     No   Sun  Dinner     2  25.267250\n"
     ]
    }
   ],
   "source": [
    "import pandas, seaborn\n",
    "from matplotlib import pyplot\n",
    "\n",
    "tips = pandas.read_csv('../Datasets/tips.csv')\n",
    "tips['tip_perc'] = 100*tips['tip']/tips['total_bill']\n",
    "\n",
    "mean_tip_perc = tips['tip_perc'].mean()\n",
    "std_tip_perc = tips['tip_perc'].std()\n",
    "t = mean_tip_perc + 1.5*std_tip_perc\n",
    "\n",
    "print('Mean and standard deviation of tip percentages:', mean_tip_perc, std_tip_perc)\n",
    "print('Threshold that determines \"big tippers\":', t)\n",
    "print()\n",
    "\n",
    "Q = (tips['tip_perc'] > t) \n",
    "big_tippers = tips[Q].sort_values(by='tip_perc', ascending=False)\n",
    "\n",
    "print('There are', len(big_tippers), 'big tippers.')\n",
    "print(big_tippers)"
   ]
  },
  {
   "cell_type": "code",
   "execution_count": null,
   "id": "6bd03382-4ae0-40f7-bfb1-a7da8e0b211e",
   "metadata": {},
   "outputs": [],
   "source": []
  }
 ],
 "metadata": {
  "kernelspec": {
   "display_name": "Python 3 (ipykernel)",
   "language": "python",
   "name": "python3"
  },
  "language_info": {
   "codemirror_mode": {
    "name": "ipython",
    "version": 3
   },
   "file_extension": ".py",
   "mimetype": "text/x-python",
   "name": "python",
   "nbconvert_exporter": "python",
   "pygments_lexer": "ipython3",
   "version": "3.9.12"
  }
 },
 "nbformat": 4,
 "nbformat_minor": 5
}
